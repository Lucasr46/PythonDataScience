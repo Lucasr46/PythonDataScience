{
 "cells": [
  {
   "cell_type": "markdown",
   "id": "45891572",
   "metadata": {},
   "source": [
    "# **Lógica de programação com Python**"
   ]
  },
  {
   "cell_type": "code",
   "execution_count": 145,
   "id": "d2fefac2",
   "metadata": {
    "scrolled": true
   },
   "outputs": [
    {
     "name": "stdout",
     "output_type": "stream",
     "text": [
      "meu nome é lucas e tenho 21 anos e recebo 960.5 reais\n"
     ]
    }
   ],
   "source": [
    "nome = 'lucas'\n",
    "\n",
    "idade = 21 \n",
    "\n",
    "salario = 960.50\n",
    "\n",
    "print(f'meu nome é {nome} e tenho {idade} anos e recebo {salario} reais')"
   ]
  },
  {
   "cell_type": "markdown",
   "id": "7ad895f8",
   "metadata": {},
   "source": [
    "## **Criando as primeiras funções**"
   ]
  },
  {
   "cell_type": "markdown",
   "id": "86c5a662",
   "metadata": {},
   "source": [
    "##### Passagem sem Paramêtro"
   ]
  },
  {
   "cell_type": "code",
   "execution_count": 45,
   "id": "e383b84d",
   "metadata": {
    "scrolled": true
   },
   "outputs": [],
   "source": [
    "def apresentacao():\n",
    "    nome = input('Qual seu nome? ')\n",
    "    idade = input('Qual sua idade? ')\n",
    "    salario = input('Qual seu salario? ')\n",
    "    print(f'Olá {nome} você tem {idade} anos e seu salario é {salario} reais')"
   ]
  },
  {
   "cell_type": "code",
   "execution_count": 47,
   "id": "2ebe07cc",
   "metadata": {
    "scrolled": false
   },
   "outputs": [
    {
     "name": "stdout",
     "output_type": "stream",
     "text": [
      "Qual seu nome? Lucas\n",
      "Qual sua idade? 21\n",
      "Qual seu salario? 950.50\n",
      "Olá Lucas você tem 21 anos e seu salario é 950.50 reais\n"
     ]
    }
   ],
   "source": [
    "apresentacao()"
   ]
  },
  {
   "cell_type": "code",
   "execution_count": 48,
   "id": "a34fa761",
   "metadata": {},
   "outputs": [],
   "source": [
    "def full_name():\n",
    "    first_name = input ('What is your name? ')\n",
    "    second_name = input ('What is your second name? ')\n",
    "    full_name = first_name + second_name\n",
    "    print(full_name)\n",
    "    "
   ]
  },
  {
   "cell_type": "code",
   "execution_count": 49,
   "id": "c124a697",
   "metadata": {
    "scrolled": true
   },
   "outputs": [
    {
     "name": "stdout",
     "output_type": "stream",
     "text": [
      "What is your name? Lucas\n",
      "What is your second name? Ramos\n",
      "LucasRamos\n"
     ]
    }
   ],
   "source": [
    "full_name()"
   ]
  },
  {
   "cell_type": "markdown",
   "id": "0527e672",
   "metadata": {},
   "source": [
    "##### Passagem por Paramêtro"
   ]
  },
  {
   "cell_type": "code",
   "execution_count": 66,
   "id": "416b4d62",
   "metadata": {},
   "outputs": [],
   "source": [
    "nome = 'Lucas'\n",
    "idade = 21\n",
    "salario = 900.60"
   ]
  },
  {
   "cell_type": "code",
   "execution_count": 67,
   "id": "5292e60f",
   "metadata": {},
   "outputs": [],
   "source": [
    "def apresentacao_com_parametros(nomepessoa, idadepessoa, salariopessoa):\n",
    "    print(f'Olá {nomepessoa} você tem {idadepessoa} anos e seu salario é de {salariopessoa}')"
   ]
  },
  {
   "cell_type": "code",
   "execution_count": 68,
   "id": "7545ac15",
   "metadata": {
    "scrolled": false
   },
   "outputs": [
    {
     "name": "stdout",
     "output_type": "stream",
     "text": [
      "Olá Lucas você tem 21 anos e seu salario é de 900.6\n"
     ]
    }
   ],
   "source": [
    "apresentacao_com_parametros(nome, idade, salario)"
   ]
  },
  {
   "cell_type": "markdown",
   "id": "fa44eae3",
   "metadata": {},
   "source": [
    "## Condicional"
   ]
  },
  {
   "cell_type": "markdown",
   "id": "1eaaebce",
   "metadata": {},
   "source": [
    "###### Passagem por parametro"
   ]
  },
  {
   "cell_type": "code",
   "execution_count": 72,
   "id": "1440bae7",
   "metadata": {},
   "outputs": [
    {
     "name": "stdout",
     "output_type": "stream",
     "text": [
      "O condutor não tem permissão para dirigir\n"
     ]
    }
   ],
   "source": [
    "idade = 10\n",
    "\n",
    "def permissao_para_dirigir(idade):\n",
    "    if idade >= 18:\n",
    "        print('O condutor tem permissão para dirigir')\n",
    "    else:\n",
    "        print('O condutor não tem permissão para dirigir')\n",
    "        \n",
    "permissao_para_dirigir(idade)\n",
    "    "
   ]
  },
  {
   "cell_type": "markdown",
   "id": "e14da85a",
   "metadata": {},
   "source": [
    "###### Passagem sem parametro - conversão do tipo para inteiro"
   ]
  },
  {
   "cell_type": "code",
   "execution_count": 83,
   "id": "dfd480fa",
   "metadata": {},
   "outputs": [
    {
     "name": "stdout",
     "output_type": "stream",
     "text": [
      "Qual sua idade? 21\n",
      "O condutor tem permissão para dirigir\n"
     ]
    }
   ],
   "source": [
    "def permissao_para_dirigir_sem_parametros():\n",
    "    idade = input('Qual sua idade? ')\n",
    "    idade = int(idade) # Convertendo tipo para inteiro\n",
    "    if idade >= 18:\n",
    "        print('O condutor tem permissão para dirigir')\n",
    "    else:\n",
    "        print('O condutor não tem permissão para dirigir')\n",
    "        \n",
    "permissao_para_dirigir_sem_parametros()    "
   ]
  },
  {
   "cell_type": "markdown",
   "id": "e05ed255",
   "metadata": {},
   "source": [
    "## Exercícios"
   ]
  },
  {
   "cell_type": "markdown",
   "id": "697c0756",
   "metadata": {},
   "source": [
    "###### Indo até a padaria"
   ]
  },
  {
   "cell_type": "code",
   "execution_count": 99,
   "id": "b99be97e",
   "metadata": {},
   "outputs": [],
   "source": [
    "espaco = 100\n",
    "tempo = 20\n",
    "\n",
    "def velocidade(distancia, durabilidade):\n",
    "    v = distancia / durabilidade\n",
    "    print(f'Velocidade: {v} m/s')"
   ]
  },
  {
   "cell_type": "code",
   "execution_count": 100,
   "id": "ca876ef3",
   "metadata": {
    "scrolled": true
   },
   "outputs": [
    {
     "name": "stdout",
     "output_type": "stream",
     "text": [
      "Velocidade: 5.0 m/s\n"
     ]
    }
   ],
   "source": [
    "velocidade(espaco, tempo)"
   ]
  },
  {
   "cell_type": "markdown",
   "id": "90cf2205",
   "metadata": {},
   "source": [
    "###### Quantos anos para tirar habilitação?"
   ]
  },
  {
   "cell_type": "code",
   "execution_count": 114,
   "id": "c9d6db17",
   "metadata": {},
   "outputs": [],
   "source": [
    "def permissao_para_dirigir():\n",
    "    idade = input('Quantos anos você tem? ')\n",
    "    idade = int(idade)\n",
    "    if idade >= 18:\n",
    "        print('Você tem permissão para dirigir')\n",
    "    else:\n",
    "        tempo_restante = 18 - idade\n",
    "        print(f'Você tem pode dirigir no momento, mas daqui {tempo_restante} anos voce podera dirigir')"
   ]
  },
  {
   "cell_type": "code",
   "execution_count": 115,
   "id": "f2d13ba0",
   "metadata": {
    "scrolled": true
   },
   "outputs": [
    {
     "name": "stdout",
     "output_type": "stream",
     "text": [
      "Quantos anos você tem? 10\n",
      "Você tem pode dirigir no momento, mas daqui 8 anos voce podera dirigir\n"
     ]
    }
   ],
   "source": [
    "permissao_para_dirigir()"
   ]
  },
  {
   "cell_type": "markdown",
   "id": "42797384",
   "metadata": {},
   "source": [
    "## Listas"
   ]
  },
  {
   "cell_type": "code",
   "execution_count": 175,
   "id": "77e2cbc6",
   "metadata": {
    "scrolled": true
   },
   "outputs": [],
   "source": [
    "idades = [10, 30, 20, 40]\n",
    "#         0   1   2   3\n",
    "#         0  -3  -2  -1"
   ]
  },
  {
   "cell_type": "code",
   "execution_count": 147,
   "id": "dfac93f1",
   "metadata": {
    "scrolled": true
   },
   "outputs": [
    {
     "data": {
      "text/plain": [
       "list"
      ]
     },
     "execution_count": 147,
     "metadata": {},
     "output_type": "execute_result"
    }
   ],
   "source": [
    "type(idades)"
   ]
  },
  {
   "cell_type": "code",
   "execution_count": 148,
   "id": "14f7cd1b",
   "metadata": {},
   "outputs": [
    {
     "data": {
      "text/plain": [
       "[10, 30, 20, 40]"
      ]
     },
     "execution_count": 148,
     "metadata": {},
     "output_type": "execute_result"
    }
   ],
   "source": [
    "idades # chamar todas as idades\n"
   ]
  },
  {
   "cell_type": "code",
   "execution_count": 149,
   "id": "46d29d4c",
   "metadata": {},
   "outputs": [
    {
     "data": {
      "text/plain": [
       "10"
      ]
     },
     "execution_count": 149,
     "metadata": {},
     "output_type": "execute_result"
    }
   ],
   "source": [
    "idades[0] # chamar a primeira idade"
   ]
  },
  {
   "cell_type": "code",
   "execution_count": 273,
   "id": "9725125c",
   "metadata": {},
   "outputs": [
    {
     "data": {
      "text/plain": [
       "20"
      ]
     },
     "execution_count": 273,
     "metadata": {},
     "output_type": "execute_result"
    }
   ],
   "source": [
    "idades [2] # chamar a terceira idade (a contagem começa do 0)"
   ]
  },
  {
   "cell_type": "code",
   "execution_count": 150,
   "id": "ddc804ad",
   "metadata": {
    "scrolled": true
   },
   "outputs": [
    {
     "data": {
      "text/plain": [
       "40"
      ]
     },
     "execution_count": 150,
     "metadata": {},
     "output_type": "execute_result"
    }
   ],
   "source": [
    "idades[-1] # chamar a ultima idade"
   ]
  },
  {
   "cell_type": "code",
   "execution_count": 151,
   "id": "ee2859a5",
   "metadata": {},
   "outputs": [
    {
     "data": {
      "text/plain": [
       "[30, 20, 40]"
      ]
     },
     "execution_count": 151,
     "metadata": {},
     "output_type": "execute_result"
    }
   ],
   "source": [
    "idades[1:] # chamar todas as idades menos a primeira"
   ]
  },
  {
   "cell_type": "markdown",
   "id": "994cc90a",
   "metadata": {},
   "source": [
    "## Laços e Loops \"For\""
   ]
  },
  {
   "cell_type": "code",
   "execution_count": 234,
   "id": "4efa7a6d",
   "metadata": {
    "scrolled": false
   },
   "outputs": [
    {
     "data": {
      "text/plain": [
       "[10, 30, 20, 40]"
      ]
     },
     "execution_count": 234,
     "metadata": {},
     "output_type": "execute_result"
    }
   ],
   "source": [
    "idades"
   ]
  },
  {
   "cell_type": "code",
   "execution_count": 239,
   "id": "039967e8",
   "metadata": {
    "scrolled": true
   },
   "outputs": [
    {
     "name": "stdout",
     "output_type": "stream",
     "text": [
      "10 anos de idade, nao tem permissao para dirigir\n",
      "30 anos de idade, tem permissao para dirigir\n",
      "20 anos de idade, tem permissao para dirigir\n",
      "40 anos de idade, tem permissao para dirigir\n"
     ]
    }
   ],
   "source": [
    "def permissao_dirigir (idade):# Nesse caso o \"idade\" é o que desejamos do usuario\n",
    "    for anos in idades: # Já aqui denominamos o valor dos dados da nossa lista \"idades\" como \"anos\"\n",
    "        if anos >= 18: \n",
    "            print(f'{anos} anos de idade, tem permissao para dirigir')\n",
    "        else:\n",
    "            print(f'{anos} anos de idade, nao tem permissao para dirigir')\n",
    "        \n",
    "permissao_dirigir(idades) # Por fim, aqui chamamos a função com o nome da nossa lista \"idades\""
   ]
  },
  {
   "cell_type": "markdown",
   "id": "1fc38193",
   "metadata": {},
   "source": [
    "## Boleano"
   ]
  },
  {
   "cell_type": "code",
   "execution_count": 262,
   "id": "e51ccc48",
   "metadata": {},
   "outputs": [
    {
     "data": {
      "text/plain": [
       "False"
      ]
     },
     "execution_count": 262,
     "metadata": {},
     "output_type": "execute_result"
    }
   ],
   "source": [
    "idade = 18\n",
    "idade >= 20"
   ]
  },
  {
   "cell_type": "code",
   "execution_count": 263,
   "id": "08b07929",
   "metadata": {
    "scrolled": false
   },
   "outputs": [],
   "source": [
    "permissoes = []\n",
    "idades = [15, 20, 25]"
   ]
  },
  {
   "cell_type": "code",
   "execution_count": 264,
   "id": "d0019bbe",
   "metadata": {},
   "outputs": [],
   "source": [
    "def permissao_dirigir (permissoes, idades):\n",
    "    for idade in idades:\n",
    "        if idade >= 18:\n",
    "            permissoes.append(True)\n",
    "        else:\n",
    "            permissoes.append(False)\n",
    "            \n",
    "permissao_dirigir(permissoes, idades)"
   ]
  },
  {
   "cell_type": "code",
   "execution_count": 265,
   "id": "18c652c3",
   "metadata": {
    "scrolled": true
   },
   "outputs": [
    {
     "data": {
      "text/plain": [
       "[False, True, True]"
      ]
     },
     "execution_count": 265,
     "metadata": {},
     "output_type": "execute_result"
    }
   ],
   "source": [
    "permissoes"
   ]
  },
  {
   "cell_type": "code",
   "execution_count": 266,
   "id": "865938f4",
   "metadata": {},
   "outputs": [
    {
     "name": "stdout",
     "output_type": "stream",
     "text": [
      "Nao tem permissao\n",
      "Tem permissao\n",
      "Tem permissao\n"
     ]
    }
   ],
   "source": [
    "for permissao in permissoes:\n",
    "    if permissao == True:\n",
    "        print('Tem permissao')\n",
    "    else:\n",
    "        print('Nao tem permissao')"
   ]
  },
  {
   "cell_type": "code",
   "execution_count": 279,
   "id": "05fa6f5d",
   "metadata": {},
   "outputs": [],
   "source": [
    "permissoes = []\n",
    "idades = [10, 15, 20, 25]\n",
    "\n",
    "def permissao_dirigir(permissoes, idades):\n",
    "    for idade in idades:\n",
    "        if idade >= 18:\n",
    "            permissoes.append(True)\n",
    "        else:\n",
    "            permissoes.append(False)\n",
    "        "
   ]
  },
  {
   "cell_type": "code",
   "execution_count": 283,
   "id": "99f926ec",
   "metadata": {},
   "outputs": [],
   "source": [
    "permissao_dirigir(permissoes, idades)"
   ]
  },
  {
   "cell_type": "code",
   "execution_count": 284,
   "id": "9095ee63",
   "metadata": {},
   "outputs": [
    {
     "data": {
      "text/plain": [
       "[False, False, True, True]"
      ]
     },
     "execution_count": 284,
     "metadata": {},
     "output_type": "execute_result"
    }
   ],
   "source": [
    "permissoes"
   ]
  },
  {
   "cell_type": "code",
   "execution_count": 285,
   "id": "eb87ed65",
   "metadata": {},
   "outputs": [
    {
     "name": "stdout",
     "output_type": "stream",
     "text": [
      "nao tem permissa\n",
      "nao tem permissa\n",
      "Tem permissao\n",
      "Tem permissao\n"
     ]
    }
   ],
   "source": [
    "for permissao in permissoes:\n",
    "    if permissao == True:\n",
    "        print('Tem permissao')\n",
    "    else:\n",
    "        print('nao tem permissa')"
   ]
  },
  {
   "cell_type": "markdown",
   "id": "8c1739d3",
   "metadata": {},
   "source": [
    "## Tipos em uma lista"
   ]
  },
  {
   "cell_type": "code",
   "execution_count": 296,
   "id": "b688096f",
   "metadata": {
    "scrolled": true
   },
   "outputs": [
    {
     "name": "stdout",
     "output_type": "stream",
     "text": [
      "O elemento Lucas é do tipo:  <class 'str'>\n",
      "O elemento 21 é do tipo:  <class 'int'>\n",
      "O elemento True é do tipo:  <class 'bool'>\n",
      "O elemento 100 é do tipo:  <class 'str'>\n"
     ]
    }
   ],
   "source": [
    "lista = ['Lucas', 21, True, '100']\n",
    "\n",
    "for dados in lista:\n",
    "        print(f'O elemento {dados} é do tipo: ', type(dados))"
   ]
  },
  {
   "cell_type": "markdown",
   "id": "9dc8f5b1",
   "metadata": {},
   "source": [
    "## Import"
   ]
  },
  {
   "cell_type": "code",
   "execution_count": 13,
   "id": "67a3a498",
   "metadata": {},
   "outputs": [],
   "source": [
    "from random import randrange, seed"
   ]
  },
  {
   "cell_type": "code",
   "execution_count": 23,
   "id": "8537e2d4",
   "metadata": {},
   "outputs": [],
   "source": [
    "seed(0)"
   ]
  },
  {
   "cell_type": "code",
   "execution_count": 24,
   "id": "7fde19ba",
   "metadata": {},
   "outputs": [
    {
     "data": {
      "text/plain": [
       "6"
      ]
     },
     "execution_count": 24,
     "metadata": {},
     "output_type": "execute_result"
    }
   ],
   "source": [
    "randrange(0, 11)"
   ]
  },
  {
   "cell_type": "code",
   "execution_count": 25,
   "id": "9e3e28aa",
   "metadata": {},
   "outputs": [
    {
     "data": {
      "text/plain": [
       "[6, 0, 4, 8, 7, 6, 4, 7]"
      ]
     },
     "execution_count": 25,
     "metadata": {},
     "output_type": "execute_result"
    }
   ],
   "source": [
    "notas_mat = []\n",
    "\n",
    "for notas in range(8):\n",
    "    notas_mat.append(randrange(0,11))\n",
    "    \n",
    "notas_mat"
   ]
  },
  {
   "cell_type": "code",
   "execution_count": 353,
   "id": "e6e523e2",
   "metadata": {
    "scrolled": true
   },
   "outputs": [
    {
     "data": {
      "text/plain": [
       "8"
      ]
     },
     "execution_count": 353,
     "metadata": {},
     "output_type": "execute_result"
    }
   ],
   "source": [
    "len(notas_mat)"
   ]
  },
  {
   "cell_type": "markdown",
   "id": "1616c302",
   "metadata": {},
   "source": [
    "## Matplotlib"
   ]
  },
  {
   "cell_type": "code",
   "execution_count": 27,
   "id": "597cbad3",
   "metadata": {},
   "outputs": [],
   "source": [
    "import matplotlib.pyplot as plt"
   ]
  },
  {
   "cell_type": "code",
   "execution_count": 39,
   "id": "eb2fd2af",
   "metadata": {},
   "outputs": [
    {
     "data": {
      "image/png": "[encoded data removed]",
      "text/plain": [
       "<Figure size 432x288 with 1 Axes>"
      ]
     },
     "metadata": {
      "needs_background": "light"
     },
     "output_type": "display_data"
    }
   ],
   "source": [
    "x = list (range (1, 9))\n",
    "y = notas_mat\n",
    "plt.plot(x, y, marker = 'o') # marker \n",
    "plt.title ('Notas Metemática') # título do grafico\n",
    "plt.xlabel('Provas') # título eixo x\n",
    "plt.ylabel('Notas') # título eixo y\n",
    "plt.show()"
   ]
  },
  {
   "cell_type": "code",
   "execution_count": 40,
   "id": "773a0411",
   "metadata": {},
   "outputs": [
    {
     "data": {
      "text/plain": [
       "[6, 0, 4, 8, 7, 6, 4, 7]"
      ]
     },
     "execution_count": 40,
     "metadata": {},
     "output_type": "execute_result"
    }
   ],
   "source": [
    "notas_mat"
   ]
  }
 ],
 "metadata": {
  "kernelspec": {
   "display_name": "Python 3 (ipykernel)",
   "language": "python",
   "name": "python3"
  },
  "language_info": {
   "codemirror_mode": {
    "name": "ipython",
    "version": 3
   },
   "file_extension": ".py",
   "mimetype": "text/x-python",
   "name": "python",
   "nbconvert_exporter": "python",
   "pygments_lexer": "ipython3",
   "version": "3.9.12"
  }
 },
 "nbformat": 4,
 "nbformat_minor": 5
}
